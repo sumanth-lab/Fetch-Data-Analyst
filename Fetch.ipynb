{
  "nbformat": 4,
  "nbformat_minor": 0,
  "metadata": {
    "colab": {
      "provenance": []
    },
    "kernelspec": {
      "name": "python3",
      "display_name": "Python 3"
    },
    "language_info": {
      "name": "python"
    }
  },
  "cells": [
    {
      "cell_type": "code",
      "execution_count": null,
      "metadata": {
        "id": "xW2wyK7ibBKr"
      },
      "outputs": [],
      "source": [
        "import pandas as pd\n",
        "\n",
        "# Load the data\n",
        "products = pd.read_csv('/content/PRODUCTS_TAKEHOME.csv')\n",
        "transactions = pd.read_csv('/content/TRANSACTION_TAKEHOME.csv')\n",
        "users = pd.read_csv('/content/USER_TAKEHOME.csv')"
      ]
    },
    {
      "cell_type": "code",
      "source": [
        "# Check for missing values\n",
        "print(users.isnull().sum())\n",
        "print(transactions.isnull().sum())\n",
        "print(products.isnull().sum())\n",
        "\n",
        "# Check for duplicates\n",
        "print(users.duplicated().sum())\n",
        "print(transactions.duplicated().sum())\n",
        "print(products.duplicated().sum())\n",
        "\n",
        "# Check data types\n",
        "print(users.dtypes)\n",
        "print(transactions.dtypes)\n",
        "print(products.dtypes)"
      ],
      "metadata": {
        "colab": {
          "base_uri": "https://localhost:8080/"
        },
        "id": "_h-6e_8DbUiB",
        "outputId": "c5583787-b4b4-4882-c56b-84824539b5df"
      },
      "execution_count": null,
      "outputs": [
        {
          "output_type": "stream",
          "name": "stdout",
          "text": [
            "ID                  0\n",
            "CREATED_DATE        0\n",
            "BIRTH_DATE       3675\n",
            "STATE            4812\n",
            "LANGUAGE        30508\n",
            "GENDER           5892\n",
            "dtype: int64\n",
            "RECEIPT_ID           0\n",
            "PURCHASE_DATE        0\n",
            "SCAN_DATE            0\n",
            "STORE_NAME           0\n",
            "USER_ID              0\n",
            "BARCODE           5762\n",
            "FINAL_QUANTITY       0\n",
            "FINAL_SALE           0\n",
            "dtype: int64\n",
            "CATEGORY_1         111\n",
            "CATEGORY_2        1424\n",
            "CATEGORY_3       60566\n",
            "CATEGORY_4      778093\n",
            "MANUFACTURER    226474\n",
            "BRAND           226472\n",
            "BARCODE           4025\n",
            "dtype: int64\n",
            "0\n",
            "171\n",
            "215\n",
            "ID              object\n",
            "CREATED_DATE    object\n",
            "BIRTH_DATE      object\n",
            "STATE           object\n",
            "LANGUAGE        object\n",
            "GENDER          object\n",
            "dtype: object\n",
            "RECEIPT_ID         object\n",
            "PURCHASE_DATE      object\n",
            "SCAN_DATE          object\n",
            "STORE_NAME         object\n",
            "USER_ID            object\n",
            "BARCODE           float64\n",
            "FINAL_QUANTITY     object\n",
            "FINAL_SALE         object\n",
            "dtype: object\n",
            "CATEGORY_1       object\n",
            "CATEGORY_2       object\n",
            "CATEGORY_3       object\n",
            "CATEGORY_4       object\n",
            "MANUFACTURER     object\n",
            "BRAND            object\n",
            "BARCODE         float64\n",
            "dtype: object\n"
          ]
        }
      ]
    },
    {
      "cell_type": "markdown",
      "source": [
        "Data Quality Issues:\n",
        "\n",
        "Missing Values:\n",
        "Significant missing data in critical fields:\n",
        "Users Table: BIRTH_DATE (3,675), STATE (4,812), LANGUAGE (30,508), GENDER (5,892).\n",
        "Transactions Table: BARCODE (5,762).\n",
        "Products Table: High missing values in categories, especially CATEGORY_4 (778,093) and BRAND (226,472).\n",
        "\n",
        "Data Types:\n",
        "Fields like FINAL_SALE and FINAL_QUANTITY are stored as object types, which complicates numerical analysis.\n",
        "BARCODE is a float64, which may not be appropriate since barcodes should be treated as strings.\n",
        "\n",
        "Challenging Fields:\n",
        "LANGUAGE: With over 30,000 missing values, it’s unclear how to handle this field effectively.\n",
        "CATEGORY_3 and CATEGORY_4: The high number of missing values suggests inconsistency, making analysis difficult.\n",
        "FINAL_SALE and FINAL_QUANTITY: Their current data types hinder calculations and visualizations."
      ],
      "metadata": {
        "id": "GyGLb02UJ7P0"
      }
    },
    {
      "cell_type": "code",
      "source": [
        "import pandas as pd\n",
        "\n",
        "# Load the transactions data\n",
        "transactions = pd.read_csv('/content/TRANSACTION_TAKEHOME.csv')\n",
        "\n",
        "# Check the data type of the FINAL_SALE column\n",
        "print(transactions['FINAL_SALE'].dtype)\n",
        "\n",
        "# Convert FINAL_SALE to numeric, forcing errors to NaN\n",
        "transactions['FINAL_SALE'] = pd.to_numeric(transactions['FINAL_SALE'], errors='coerce')\n",
        "\n",
        "# Check for any NaN values that resulted from the conversion\n",
        "print(transactions['FINAL_SALE'].isnull().sum())\n",
        "\n",
        "# Optionally, drop rows with NaN values in FINAL_SALE\n",
        "transactions = transactions.dropna(subset=['FINAL_SALE'])\n",
        "\n",
        "# Now you can proceed with the percentile calculation and visualization\n",
        "percentile_95 = np.percentile(transactions['FINAL_SALE'], 95)\n",
        "\n",
        "# Filter the data to include only sales below the 95th percentile\n",
        "filtered_sales = transactions[transactions['FINAL_SALE'] <= percentile_95]\n",
        "\n",
        "# Visualize the filtered sales distribution\n",
        "import matplotlib.pyplot as plt\n",
        "import seaborn as sns\n",
        "\n",
        "# Set the style of seaborn\n",
        "sns.set(style=\"whitegrid\")\n",
        "\n",
        "# Visualize the filtered sales distribution\n",
        "plt.figure(figsize=(12, 6))  # Increase figure size\n",
        "sns.histplot(filtered_sales['FINAL_SALE'], bins=20, kde=True)  # Adjust number of bins\n",
        "plt.title('Distribution of Sales (Filtered)', fontsize=16)\n",
        "plt.xlabel('Sale Amount', fontsize=14)\n",
        "plt.ylabel('Frequency', fontsize=14)\n",
        "\n",
        "# Rotate x-axis labels if necessary\n",
        "plt.xticks(rotation=45)\n",
        "\n",
        "# Add gridlines for better readability\n",
        "plt.grid(axis='y')\n",
        "\n",
        "# Use tight layout to adjust spacing\n",
        "plt.tight_layout()\n",
        "\n",
        "# Show the plot\n",
        "plt.show()"
      ],
      "metadata": {
        "colab": {
          "base_uri": "https://localhost:8080/",
          "height": 474
        },
        "id": "wYfPAf1tqBrQ",
        "outputId": "4ce240c4-ebb5-4cdf-ce55-fff8956514b9"
      },
      "execution_count": null,
      "outputs": [
        {
          "output_type": "stream",
          "name": "stdout",
          "text": [
            "object\n",
            "12500\n"
          ]
        },
        {
          "output_type": "display_data",
          "data": {
            "text/plain": [
              "<Figure size 1200x600 with 1 Axes>"
            ],
            "image/png": "[encoded data removed]"
          },
          "metadata": {}
        }
      ]
    },
    {
      "cell_type": "code",
      "source": [
        "!pip install pandas matplotlib seaborn sqlalchemy sqlite3"
      ],
      "metadata": {
        "id": "qTZFvf0kbadc",
        "colab": {
          "base_uri": "https://localhost:8080/"
        },
        "outputId": "68ea5146-7bd0-4d88-d500-c4c1d57144bb"
      },
      "execution_count": null,
      "outputs": [
        {
          "output_type": "stream",
          "name": "stdout",
          "text": [
            "Requirement already satisfied: pandas in /usr/local/lib/python3.11/dist-packages (2.2.2)\n",
            "Requirement already satisfied: matplotlib in /usr/local/lib/python3.11/dist-packages (3.10.0)\n",
            "Requirement already satisfied: seaborn in /usr/local/lib/python3.11/dist-packages (0.13.2)\n",
            "Requirement already satisfied: sqlalchemy in /usr/local/lib/python3.11/dist-packages (2.0.37)\n",
            "\u001b[31mERROR: Could not find a version that satisfies the requirement sqlite3 (from versions: none)\u001b[0m\u001b[31m\n",
            "\u001b[0m\u001b[31mERROR: No matching distribution found for sqlite3\u001b[0m\u001b[31m\n",
            "\u001b[0m"
          ]
        }
      ]
    },
    {
      "cell_type": "code",
      "source": [
        "from sqlalchemy import create_engine\n",
        "\n",
        "# Create SQLite database\n",
        "engine = create_engine('sqlite:///fetch_data.db')\n",
        "\n",
        "# Load data into SQL tables\n",
        "users.to_sql('users', engine, index=False, if_exists='replace')\n",
        "transactions.to_sql('transactions', engine, index=False, if_exists='replace')\n",
        "products.to_sql('products', engine, index=False, if_exists='replace')"
      ],
      "metadata": {
        "colab": {
          "base_uri": "https://localhost:8080/"
        },
        "id": "9zqL6M88JA0u",
        "outputId": "fe7be4e9-3f57-499f-e9de-e28e724f7305"
      },
      "execution_count": null,
      "outputs": [
        {
          "output_type": "execute_result",
          "data": {
            "text/plain": [
              "845552"
            ]
          },
          "metadata": {},
          "execution_count": 61
        }
      ]
    },
    {
      "cell_type": "code",
      "source": [
        "# Step 4: Load data into SQL tables\n",
        "users.to_sql('users', engine, index=False, if_exists='replace')\n",
        "transactions.to_sql('transactions', engine, index=False, if_exists='replace')\n",
        "products.to_sql('products', engine, index=False, if_exists='replace')\n",
        "\n",
        "# Step 6: Function to execute SQL queries\n",
        "def execute_query(query):\n",
        "    with engine.connect() as connection:\n",
        "        result = connection.execute(text(query))  # Use text() to convert the query\n",
        "        return result.fetchall()\n",
        "\n",
        "# Step 7: SQL Queries\n",
        "# 1. Top 5 brands by receipts scanned among users 21 and over\n",
        "query1 = \"\"\"\n",
        "SELECT p.BRAND, COUNT(t.RECEIPT_ID) AS receipts_scanned\n",
        "FROM transactions t\n",
        "JOIN users u ON t.USER_ID = u.ID\n",
        "JOIN products p ON t.BARCODE = p.BARCODE\n",
        "WHERE u.BIRTH_DATE <= DATE('now', '-21 years')\n",
        "GROUP BY p.BRAND\n",
        "ORDER BY receipts_scanned DESC\n",
        "LIMIT 5;\n",
        "\"\"\"\n",
        "result1 = execute_query(query1)\n",
        "print(\"Top 5 brands by receipts scanned among users 21 and over:\\n\", result1)\n",
        "\n",
        "# 2. Top 5 brands by sales among users that have had their account for at least six months\n",
        "query2 = \"\"\"\n",
        "SELECT p.BRAND, SUM(t.FINAL_SALE) AS total_sales\n",
        "FROM transactions t\n",
        "JOIN users u ON t.USER_ID = u.ID\n",
        "JOIN products p ON t.BARCODE = p.BARCODE\n",
        "WHERE u.CREATED_DATE <= DATE('now', '-6 months')\n",
        "GROUP BY p.BRAND\n",
        "ORDER BY total_sales DESC\n",
        "LIMIT 5;\n",
        "\"\"\"\n",
        "result2 = execute_query(query2)\n",
        "print(\"Top 5 brands by sales among users that have had their account for at least six months:\\n\", result2)\n",
        "\n",
        "# 3. What is the percentage of sales in the Health & Wellness category by generation?\n",
        "query3 = \"\"\"\n",
        "SELECT\n",
        "    CASE\n",
        "        WHEN u.BIRTH_DATE >= DATE('now', '-25 years') THEN 'Gen Z'\n",
        "        WHEN u.BIRTH_DATE >= DATE('now', '-41 years') THEN 'Millennials'\n",
        "        WHEN u.BIRTH_DATE >= DATE('now', '-57 years') THEN 'Gen X'\n",
        "        ELSE 'Boomers'\n",
        "    END AS generation,\n",
        "    SUM(t.FINAL_SALE) * 100.0 / (SELECT SUM(t2.FINAL_SALE) FROM transactions t2 JOIN products p2 ON t2.BARCODE = p2.BARCODE WHERE p2.CATEGORY_1 = 'Health & Wellness') AS percentage_sales\n",
        "FROM transactions t\n",
        "JOIN users u ON t.USER_ID = u.ID\n",
        "JOIN products p ON t.BARCODE = p.BARCODE\n",
        "WHERE p.CATEGORY_1 = 'Health & Wellness'\n",
        "GROUP BY generation;\n",
        "\"\"\"\n",
        "result3 = execute_query(query3)\n",
        "print(\"Fetch's power users (scanned more than 50 receipts):\\n\", result3)"
      ],
      "metadata": {
        "colab": {
          "base_uri": "https://localhost:8080/"
        },
        "id": "yyRBAiSlXgR2",
        "outputId": "5ed005dd-fce5-4555-897e-b3e90a767c2f"
      },
      "execution_count": null,
      "outputs": [
        {
          "output_type": "stream",
          "name": "stdout",
          "text": [
            "Top 5 brands by receipts scanned among users 21 and over:\n",
            " [('NERDS CANDY', 6), ('TRIDENT', 4), ('DOVE', 4), (None, 4), ('MEIJER', 3)]\n",
            "Top 5 brands by sales among users that have had their account for at least six months:\n",
            " [('CVS', 72.0), ('TRIDENT', 46.72), ('DOVE', 42.88), ('COORS LIGHT', 34.96), (None, 16.65)]\n",
            "Fetch's power users (scanned more than 50 receipts):\n",
            " [('Boomers', 0.22884239285422575), ('Gen X', 0.14145523977905383), ('Millennials', 0.08729064600385754)]\n"
          ]
        }
      ]
    },
    {
      "cell_type": "code",
      "source": [
        "#4. Who are Fetch’s power users?\n",
        "def execute_query(query):\n",
        "    with engine.connect() as connection:\n",
        "        result = connection.execute(text(query))  # Use text() to convert the query\n",
        "        return result.fetchall()\n",
        "\n",
        "# Check the number of transactions\n",
        "with engine.connect() as connection:\n",
        "    result = connection.execute(text(\"SELECT COUNT(*) FROM transactions;\"))\n",
        "    count = result.fetchone()[0]\n",
        "    print(\"Total number of transactions:\", count)\n",
        "\n",
        "# Print the first few rows of the transactions table\n",
        "with engine.connect() as connection:\n",
        "    result = connection.execute(text(\"SELECT * FROM transactions LIMIT 5;\"))\n",
        "    for row in result:\n",
        "        print(row)\n",
        "\n",
        "# Check how many receipts each user has scanned\n",
        "query_check = \"\"\"\n",
        "SELECT u.ID, COUNT(t.RECEIPT_ID) AS receipts_scanned\n",
        "FROM users u\n",
        "JOIN transactions t ON u.ID = t.USER_ID\n",
        "GROUP BY u.ID\n",
        "ORDER BY receipts_scanned DESC;\n",
        "\"\"\"\n",
        "with engine.connect() as connection:\n",
        "    result = connection.execute(text(query_check))\n",
        "    print(\"Receipts scanned by each user:\")\n",
        "    for row in result:\n",
        "        print(row)\n",
        "\n",
        "# Fetch's power users (scanned more than 2 receipts)\n",
        "query_power_users = \"\"\"\n",
        "SELECT u.ID, COUNT(t.RECEIPT_ID) AS receipts_scanned\n",
        "FROM users u\n",
        "JOIN transactions t ON u.ID = t.USER_ID\n",
        "GROUP BY u.ID\n",
        "HAVING receipts_scanned > 2;\n",
        "\"\"\"\n",
        "result_power_users = execute_query(query_power_users)\n",
        "print(\"Fetch's power users (scanned more than 2 receipts):\", result_power_users)\n"
      ],
      "metadata": {
        "colab": {
          "base_uri": "https://localhost:8080/"
        },
        "id": "KV6f4_0xbT6g",
        "outputId": "812cc02d-a3f2-4dea-9bff-7c4978e8d6b5"
      },
      "execution_count": null,
      "outputs": [
        {
          "output_type": "stream",
          "name": "stdout",
          "text": [
            "Total number of transactions: 37500\n",
            "('0001455d-7a92-4a7b-a1d2-c747af1c8fd3', '2024-07-20', '2024-07-20 09:50:24.206 Z', 'ALDI', '62c08877baa38d1a1f6c211a', None, 'zero', 1.49)\n",
            "('000239aa-3478-453d-801e-66a82e39c8af', '2024-06-18', '2024-06-19 11:03:37.468 Z', 'FOOD LION', '63fcd7cea4f8442c3386b589', 783399746536.0, 'zero', 3.49)\n",
            "('0002d8cd-1701-4cdd-a524-b70402e2dbc0', '2024-06-24', '2024-06-24 19:44:54.247 Z', 'WALMART', '5dcc6c510040a012b8e76924', 681131411295.0, 'zero', 1.46)\n",
            "('00096c49-8b04-42f9-88ce-941c5e06c4a7', '2024-08-19', '2024-08-21 17:35:21.902 Z', 'TARGET', '6144f4f1f3ef696919f54b5c', 78300069942.0, 'zero', 3.59)\n",
            "('0010d87d-1ad2-4e5e-9a25-cec736919d15', '2024-08-04', '2024-08-04 18:01:47.787 Z', 'ALDI', '66686fc2e04f743a096ea808', None, 'zero', 2.29)\n",
            "Receipts scanned by each user:\n",
            "('6528a0a388a3a884364d94dc', 6)\n",
            "('62ffec490d9dbaff18c0a999', 6)\n",
            "('62c09104baa38d1a1f6c260e', 5)\n",
            "('610a8541ca1fab5b417b5d33', 5)\n",
            "('5c366bf06d9819129dfa1118', 5)\n",
            "('6682b24786cc41b000ce5e77', 4)\n",
            "('64dd9170516348066e7c4006', 4)\n",
            "('646bdaa67a342372c857b958', 4)\n",
            "('6351760a3a4a3534d9393ecd', 4)\n",
            "('61a58ac49c135b462ccddd1c', 4)\n",
            "('5f6518d1bf3f5a43fdd0c9a5', 4)\n",
            "('5f64fff6dc25c93de0383513', 4)\n",
            "('5f21e60446f11314a16015de', 4)\n",
            "('5c6c2998b06c0045a4fddc74', 4)\n",
            "('6661ed1e7c0469953bfc76c4', 3)\n",
            "('664794617c0469953bf8932c', 3)\n",
            "('65044dc5fe41d365c2ed7d71', 3)\n",
            "('63c8294d39c79dcbdd5c1e4f', 3)\n",
            "('63c2d13139c79dcbdd563f61', 3)\n",
            "('632fc9dc0c625b72ae991f83', 3)\n",
            "('631e23bc198485e89002613b', 3)\n",
            "('62d86d9a1d76344f1a3602d9', 3)\n",
            "('61be248f43595e62de653970', 3)\n",
            "('60fc58c6d7a7355d5afb7c84', 3)\n",
            "('5b441360be53340f289b0795', 3)\n",
            "('66778d1b465f309038ac681e', 2)\n",
            "('6668f2257c0469953bfd6e45', 2)\n",
            "('6621691d89578edd4a10fb06', 2)\n",
            "('6615dab878ee6750bbc350ea', 2)\n",
            "('65ff60725a33935f1ed9176c', 2)\n",
            "('65b7bd447050d0a6206babc3', 2)\n",
            "('64e29bd89af7bd9ef5a8aafc', 2)\n",
            "('64b195bd480825afb3d43809', 2)\n",
            "('649dbeab127ddb5d7f0195d2', 2)\n",
            "('6451aa088958f56ee7fac9de', 2)\n",
            "('643059f0838dd2651fb27f50', 2)\n",
            "('63faaa3e38f010745ba05f9f', 2)\n",
            "('63c37b2639c79dcbdd5759b6', 2)\n",
            "('63b4d64d9f3fc9c75475950a', 2)\n",
            "('6344c5701aaccf0b216c3e22', 2)\n",
            "('630bf606dd9c692ad856a0dc', 2)\n",
            "('62c627d9b79924d29cc06f5a', 2)\n",
            "('62b67b8e37e6e08b0774f2c4', 2)\n",
            "('62b670ae37e6e08b0774ef35', 2)\n",
            "('62893be61ec71241a98013c3', 2)\n",
            "('62891c2d1ec71241a9801162', 2)\n",
            "('628672c44ce32b18abed2aec', 2)\n",
            "('61fd8c73ac4e5e6b50b4ca01', 2)\n",
            "('61730bba65abe727fff3fcf7', 2)\n",
            "('606df2882b317d709de67809', 2)\n",
            "('60330f9ced583b12c513bf34', 2)\n",
            "('5fe8b12183fcfc1262fa545a', 2)\n",
            "('5fcd25273f814c1271450841', 2)\n",
            "('5fc12a8a16770448f92e56b8', 2)\n",
            "('5fbd58f1ad6b5e12a114079a', 2)\n",
            "('5f4c9055e81e6f162e3f6fa8', 2)\n",
            "('5f222804d52f48146ba7112e', 2)\n",
            "('5f209654ce31af14887c9f49', 2)\n",
            "('5f01838f758b5d144a2b0f23', 2)\n",
            "('5ea899202244e629eacd6785', 2)\n",
            "('5db8d533b68dbf3bc986f289', 2)\n",
            "('5db603f8b68dbf3bc96f3c73', 2)\n",
            "('5d191765c8b1ba28e74e8463', 2)\n",
            "('5ca54049adfcb4140b54e1bf', 2)\n",
            "('5bb79c65b0a16836db35bbf1', 2)\n",
            "('59725916e4b01bd2053089fe', 2)\n",
            "('6629480003fd991ee3c0d0b8', 1)\n",
            "('660eafb46c9160420268c978', 1)\n",
            "('65c3f156e43f8851491d255f', 1)\n",
            "('650f670a61fe168f0fd89b11', 1)\n",
            "('64cfd47cf83efd697ff7d250', 1)\n",
            "('64ce5d823cb069b5eac9b700', 1)\n",
            "('647281efa55bb77a0e26f586', 1)\n",
            "('6430566d44f22b2ce43094cc', 1)\n",
            "('63c4346239c79dcbdd57ced9', 1)\n",
            "('633cec0bf06c58bd1fdc9d04', 1)\n",
            "('6323afdd138f4b3c62bc6e03', 1)\n",
            "('62fd767c30b23c82199243ad', 1)\n",
            "('62e5a95ca6565cf0534c989c', 1)\n",
            "('62c303aebaa38d1a1f6d0d51', 1)\n",
            "('62bafbb5cc43018bbbfc856e', 1)\n",
            "('62815e99c907cf3f47d8ee35', 1)\n",
            "('6236764181c1450ec756f06d', 1)\n",
            "('61ca1f591a3acd27c1b18f0b', 1)\n",
            "('61a3e9a55e388d4f51377186', 1)\n",
            "('5fd4fb485f410d44bae3a776', 1)\n",
            "('5f9414c65896841696c17359', 1)\n",
            "('5eabc94afb448d147203bf11', 1)\n",
            "('5e6d0beb01ecdd13986852e8', 1)\n",
            "('5dfe695f9a28bd129d32c7e7', 1)\n",
            "('59a25793e4b0d56df5fd34a8', 1)\n",
            "Fetch's power users (scanned more than 2 receipts): [('5b441360be53340f289b0795', 3), ('5c366bf06d9819129dfa1118', 5), ('5c6c2998b06c0045a4fddc74', 4), ('5f21e60446f11314a16015de', 4), ('5f64fff6dc25c93de0383513', 4), ('5f6518d1bf3f5a43fdd0c9a5', 4), ('60fc58c6d7a7355d5afb7c84', 3), ('610a8541ca1fab5b417b5d33', 5), ('61a58ac49c135b462ccddd1c', 4), ('61be248f43595e62de653970', 3), ('62c09104baa38d1a1f6c260e', 5), ('62d86d9a1d76344f1a3602d9', 3), ('62ffec490d9dbaff18c0a999', 6), ('631e23bc198485e89002613b', 3), ('632fc9dc0c625b72ae991f83', 3), ('6351760a3a4a3534d9393ecd', 4), ('63c2d13139c79dcbdd563f61', 3), ('63c8294d39c79dcbdd5c1e4f', 3), ('646bdaa67a342372c857b958', 4), ('64dd9170516348066e7c4006', 4), ('65044dc5fe41d365c2ed7d71', 3), ('6528a0a388a3a884364d94dc', 6), ('664794617c0469953bf8932c', 3), ('6661ed1e7c0469953bfc76c4', 3), ('6682b24786cc41b000ce5e77', 4)]\n"
          ]
        }
      ]
    },
    {
      "cell_type": "code",
      "source": [
        "#5. Query for percentage of sales in the Health & Wellness category by generation\n",
        "query_health_wellness_percentage = \"\"\"\n",
        "SELECT\n",
        "    CASE\n",
        "        WHEN u.BIRTH_DATE >= DATE('now', '-25 years') THEN 'Gen Z'\n",
        "        WHEN u.BIRTH_DATE >= DATE('now', '-41 years') THEN 'Millennials'\n",
        "        WHEN u.BIRTH_DATE >= DATE('now', '-57 years') THEN 'Gen X'\n",
        "        ELSE 'Boomers'\n",
        "    END AS generation,\n",
        "    SUM(t.FINAL_SALE) AS total_sales,\n",
        "    (SUM(t.FINAL_SALE) * 100.0 / (SELECT SUM(t2.FINAL_SALE)\n",
        "                                    FROM transactions t2\n",
        "                                    JOIN products p2 ON t2.BARCODE = p2.BARCODE\n",
        "                                    WHERE p2.CATEGORY_1 = 'Health & Wellness')) AS percentage_sales\n",
        "FROM transactions t\n",
        "JOIN users u ON t.USER_ID = u.ID\n",
        "JOIN products p ON t.BARCODE = p.BARCODE\n",
        "WHERE p.CATEGORY_1 = 'Health & Wellness'\n",
        "GROUP BY generation;\n",
        "\"\"\"\n",
        "\n",
        "result_health_wellness_percentage = execute_query(query_health_wellness_percentage)\n",
        "print(\"Percentage of sales in the Health & Wellness category by generation:\\n\", result_health_wellness_percentage)\n"
      ],
      "metadata": {
        "colab": {
          "base_uri": "https://localhost:8080/"
        },
        "id": "UoX2LO-XdrcN",
        "outputId": "96650de4-6fe5-436d-b775-b52bc26e29fb"
      },
      "execution_count": null,
      "outputs": [
        {
          "output_type": "stream",
          "name": "stdout",
          "text": [
            "Percentage of sales in the Health & Wellness category by generation:\n",
            " [('Boomers', 94.85, 0.22884239285422575), ('Gen X', 58.629999999999995, 0.14145523977905383), ('Millennials', 36.18, 0.08729064600385754)]\n"
          ]
        }
      ]
    },
    {
      "source": [
        "#6. Check for any transactions in 2024\n",
        "query_check_2024_transactions = \"\"\"\n",
        "SELECT COUNT(*) AS transaction_count\n",
        "FROM transactions\n",
        "WHERE strftime('%Y', PURCHASE_DATE) = '2024';\n",
        "\"\"\"\n",
        "transactions_2024_count = execute_query(query_check_2024_transactions)\n",
        "print(\"Number of transactions in 2024:\", transactions_2024_count)\n",
        "\n",
        "# Check distinct years in the PURCHASE_DATE\n",
        "query_distinct_years = \"\"\"\n",
        "SELECT DISTINCT strftime('%Y', PURCHASE_DATE) AS year\n",
        "FROM transactions;\n",
        "\"\"\"\n",
        "distinct_years = execute_query(query_distinct_years)\n",
        "print(\"Distinct years in PURCHASE_DATE:\", distinct_years)\n",
        "\n",
        "\n",
        "\n",
        "\n",
        "\n",
        "# Check for any transactions in 2023\n",
        "query_check_2023_transactions = \"\"\"\n",
        "SELECT COUNT(*) AS transaction_count\n",
        "FROM transactions\n",
        "WHERE strftime('%Y', PURCHASE_DATE) = '2023';\n",
        "\"\"\"\n",
        "transactions_2023_count = execute_query(query_check_2023_transactions)\n",
        "print(\"Number of transactions in 2023:\", transactions_2023_count)\n",
        "\n",
        "# Check distinct years in the PURCHASE_DATE\n",
        "query_distinct_years = \"\"\"\n",
        "SELECT DISTINCT strftime('%Y', PURCHASE_DATE) AS year\n",
        "FROM transactions;\n",
        "\"\"\"\n",
        "distinct_years = execute_query(query_distinct_years)\n",
        "print(\"Distinct years in PURCHASE_DATE:\", distinct_years)"
      ],
      "cell_type": "code",
      "metadata": {
        "colab": {
          "base_uri": "https://localhost:8080/"
        },
        "id": "_luiufJTfk30",
        "outputId": "b003bac4-43ed-4325-ee3a-8aacb6192222"
      },
      "execution_count": null,
      "outputs": [
        {
          "output_type": "stream",
          "name": "stdout",
          "text": [
            "Number of transactions in 2024: [(37500,)]\n",
            "Distinct years in PURCHASE_DATE: [('2024',)]\n",
            "Number of transactions in 2023: [(0,)]\n",
            "Distinct years in PURCHASE_DATE: [('2024',)]\n"
          ]
        }
      ]
    },
    {
      "cell_type": "code",
      "source": [],
      "metadata": {
        "id": "SWzEZAZihHlD"
      },
      "execution_count": null,
      "outputs": []
    }
  ]
}